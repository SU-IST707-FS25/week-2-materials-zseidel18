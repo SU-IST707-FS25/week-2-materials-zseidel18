{
 "cells": [
  {
   "cell_type": "markdown",
   "id": "8110fc71",
   "metadata": {
    "problem_id": "ex1"
   },
   "source": [
    "#### Exercise 1\n",
    "<!-- @q -->\n",
    "\n",
    "1. What kinds of EDA techniques might you use to explore the following types of data:\n",
    "    - Numeric data?  \n",
    "    - Categorical data?  \n",
    "    - The relationship between categorical and numeric data?"
   ]
  },
  {
   "cell_type": "markdown",
   "id": "813b98cf",
   "metadata": {
    "part_id": "ex1-part1",
    "span": "ex1-part1.answer",
    "student": true
   },
   "source": [
    "For Numeric data there are many EDA techniques which include visualizing the distribution (distribution curve), looking at summary statistics, and looking at correlation between the variables. For categorical data there are many EDA techniques which include visualizing the distribution (bar charts) in order to see all of the categories and the total number of observations within each category. For looking at the relationship between categorical and numeric data you can look at distributions or summary statistics of the numeric data in each possible category. For example if you have a categorical variable of A or B you can look at the distributions of observations that fall in A and compare it to the distributions of observations that fall in B.  "
   ]
  },
  {
   "cell_type": "markdown",
   "id": "e5af7624",
   "metadata": {
    "part_id": "ex1-part2"
   },
   "source": [
    "2. Generate some fake data (~1000 rows) with 1 categorical column (with 10 categories) and 2 numeric columns. Use the techniques you mentioned to explore the numeric, categorical, and the relationship between them."
   ]
  },
  {
   "cell_type": "code",
   "execution_count": 24,
   "id": "b78018a6",
   "metadata": {
    "additional_cells_expected": true,
    "part_id": "ex1-part2",
    "span": "ex1-part2.code",
    "student": true
   },
   "outputs": [
    {
     "data": {
      "text/html": [
       "<div>\n",
       "<style scoped>\n",
       "    .dataframe tbody tr th:only-of-type {\n",
       "        vertical-align: middle;\n",
       "    }\n",
       "\n",
       "    .dataframe tbody tr th {\n",
       "        vertical-align: top;\n",
       "    }\n",
       "\n",
       "    .dataframe thead th {\n",
       "        text-align: right;\n",
       "    }\n",
       "</style>\n",
       "<table border=\"1\" class=\"dataframe\">\n",
       "  <thead>\n",
       "    <tr style=\"text-align: right;\">\n",
       "      <th></th>\n",
       "      <th>cat</th>\n",
       "      <th>num</th>\n",
       "      <th>num1</th>\n",
       "    </tr>\n",
       "  </thead>\n",
       "  <tbody>\n",
       "    <tr>\n",
       "      <th>0</th>\n",
       "      <td>F</td>\n",
       "      <td>0.574622</td>\n",
       "      <td>79.517712</td>\n",
       "    </tr>\n",
       "    <tr>\n",
       "      <th>1</th>\n",
       "      <td>I</td>\n",
       "      <td>-1.515758</td>\n",
       "      <td>92.255165</td>\n",
       "    </tr>\n",
       "    <tr>\n",
       "      <th>2</th>\n",
       "      <td>J</td>\n",
       "      <td>-0.213175</td>\n",
       "      <td>63.370167</td>\n",
       "    </tr>\n",
       "    <tr>\n",
       "      <th>3</th>\n",
       "      <td>F</td>\n",
       "      <td>-0.532299</td>\n",
       "      <td>78.902936</td>\n",
       "    </tr>\n",
       "    <tr>\n",
       "      <th>4</th>\n",
       "      <td>A</td>\n",
       "      <td>0.342087</td>\n",
       "      <td>30.821211</td>\n",
       "    </tr>\n",
       "  </tbody>\n",
       "</table>\n",
       "</div>"
      ],
      "text/plain": [
       "  cat       num       num1\n",
       "0   F  0.574622  79.517712\n",
       "1   I -1.515758  92.255165\n",
       "2   J -0.213175  63.370167\n",
       "3   F -0.532299  78.902936\n",
       "4   A  0.342087  30.821211"
      ]
     },
     "execution_count": 24,
     "metadata": {},
     "output_type": "execute_result"
    }
   ],
   "source": [
    "import pandas as pd\n",
    "import numpy as np\n",
    "\n",
    "np.random.seed(1)\n",
    "\n",
    "categorical = [chr(i) for i in range(ord(\"A\"), ord(\"A\") + 10)]\n",
    "cat_col = np.random.choice(categorical, size = 1000)\n",
    "\n",
    "num_col = np.random.randn(1000)\n",
    "num_col1 = np.random.uniform(0,100, 1000)\n",
    "\n",
    "fake_data = pd.DataFrame({\n",
    "    \"cat\": cat_col,\n",
    "    \"num\": num_col,\n",
    "    \"num1\": num_col1\n",
    "})\n",
    "\n",
    "fake_data.head()"
   ]
  },
  {
   "cell_type": "code",
   "execution_count": 25,
   "id": "e9bdce91",
   "metadata": {
    "additional_cells_expected": true,
    "part_id": "ex1-part2",
    "span": "ex1-part2.code",
    "student": true
   },
   "outputs": [
    {
     "name": "stdout",
     "output_type": "stream",
     "text": [
      "cat\n",
      "A    111\n",
      "G    110\n",
      "C    110\n",
      "H    102\n",
      "E     99\n",
      "D     97\n",
      "J     96\n",
      "F     96\n",
      "B     92\n",
      "I     87\n",
      "Name: count, dtype: int64\n"
     ]
    },
    {
     "data": {
      "image/png": "[encoded data removed]",
      "text/plain": [
       "<Figure size 640x480 with 1 Axes>"
      ]
     },
     "metadata": {},
     "output_type": "display_data"
    }
   ],
   "source": [
    "import matplotlib.pyplot as plt\n",
    "\n",
    "fake_data[\"cat\"].value_counts().plot(kind = \"bar\")\n",
    "\n",
    "plt.title(\"Category Counts\")\n",
    "\n",
    "print(fake_data[\"cat\"].value_counts())\n"
   ]
  },
  {
   "cell_type": "code",
   "execution_count": 26,
   "id": "d32a8118",
   "metadata": {
    "additional_cells_expected": true,
    "part_id": "ex1-part2",
    "span": "ex1-part2.code",
    "student": true
   },
   "outputs": [
    {
     "name": "stdout",
     "output_type": "stream",
     "text": [
      "count    1000.000000\n",
      "mean       -0.000070\n",
      "std         1.003690\n",
      "min        -2.825550\n",
      "25%        -0.691321\n",
      "50%        -0.012087\n",
      "75%         0.672892\n",
      "max         2.995501\n",
      "Name: num, dtype: float64\n"
     ]
    },
    {
     "data": {
      "image/png": "[encoded data removed]",
      "text/plain": [
       "<Figure size 640x480 with 1 Axes>"
      ]
     },
     "metadata": {},
     "output_type": "display_data"
    }
   ],
   "source": [
    "import seaborn as sns\n",
    "\n",
    "sns.histplot(fake_data[\"num\"])\n",
    "plt.title(\"Distribution of num\")\n",
    "\n",
    "print(fake_data[\"num\"].describe())\n"
   ]
  },
  {
   "cell_type": "code",
   "execution_count": 27,
   "id": "89d6dab1",
   "metadata": {
    "additional_cells_expected": true,
    "part_id": "ex1-part2",
    "span": "ex1-part2.code",
    "student": true
   },
   "outputs": [
    {
     "name": "stdout",
     "output_type": "stream",
     "text": [
      "count    1000.000000\n",
      "mean       51.226326\n",
      "std        29.472305\n",
      "min         0.246850\n",
      "25%        25.233407\n",
      "50%        51.856104\n",
      "75%        76.892009\n",
      "max        99.921115\n",
      "Name: num1, dtype: float64\n"
     ]
    },
    {
     "data": {
      "image/png": "[encoded data removed]",
      "text/plain": [
       "<Figure size 640x480 with 1 Axes>"
      ]
     },
     "metadata": {},
     "output_type": "display_data"
    }
   ],
   "source": [
    "sns.histplot(fake_data[\"num1\"])\n",
    "plt.title(\"Distribution of num1\")\n",
    "\n",
    "print(fake_data[\"num1\"].describe())\n"
   ]
  },
  {
   "cell_type": "code",
   "execution_count": 28,
   "id": "df5799fe",
   "metadata": {
    "additional_cells_expected": true,
    "part_id": "ex1-part2",
    "span": "ex1-part2.code",
    "student": true
   },
   "outputs": [
    {
     "data": {
      "text/plain": [
       "Text(0.5, 1.0, 'Distribution of num by Category of cat')"
      ]
     },
     "execution_count": 28,
     "metadata": {},
     "output_type": "execute_result"
    },
    {
     "data": {
      "image/png": "[encoded data removed]",
      "text/plain": [
       "<Figure size 640x480 with 1 Axes>"
      ]
     },
     "metadata": {},
     "output_type": "display_data"
    }
   ],
   "source": [
    "plt.figure()\n",
    "sns.boxplot(x = \"cat\", y = \"num\", data = fake_data, order = sorted(fake_data[\"cat\"].unique()))\n",
    "plt.title(\"Distribution of num by Category of cat\")"
   ]
  },
  {
   "cell_type": "code",
   "execution_count": 29,
   "id": "9277ea05",
   "metadata": {},
   "outputs": [
    {
     "data": {
      "text/plain": [
       "Text(0.5, 1.0, 'Distribution of num1 by Category of cat')"
      ]
     },
     "execution_count": 29,
     "metadata": {},
     "output_type": "execute_result"
    },
    {
     "data": {
      "image/png": "[encoded data removed]",
      "text/plain": [
       "<Figure size 640x480 with 1 Axes>"
      ]
     },
     "metadata": {},
     "output_type": "display_data"
    }
   ],
   "source": [
    "plt.figure()\n",
    "sns.boxplot(x = \"cat\", y = \"num1\", data = fake_data, order = sorted(fake_data[\"cat\"].unique()))\n",
    "plt.title(\"Distribution of num1 by Category of cat\")"
   ]
  },
  {
   "cell_type": "markdown",
   "id": "25320be1",
   "metadata": {
    "problem_id": "2"
   },
   "source": [
    "#### Exercise 2\n",
    "\n",
    "\n",
    "Generate a data set you can use with a supervised ML model.  The data should meet the following criteria:\n",
    "   - It should have 1000 rows\n",
    "   - It should have 6 columns, with one column (your \"target\" column being a boolean column), one categorical column with 5 categories, and 4 numeric columns.\n",
    "   - The numeric columns should have dramatically different scales - different means, different std. deviations.\n",
    "   - Each non-target column should have about 5% nulls.\n",
    "\n",
    "Make this data a little more interesting by calculating the target column using a noisy function of the other columns."
   ]
  },
  {
   "cell_type": "code",
   "execution_count": 30,
   "id": "a941ebec",
   "metadata": {
    "additional_cells_expected": true,
    "part_id": "2-part1",
    "span": "2-part1.code",
    "student": true
   },
   "outputs": [
    {
     "name": "stdout",
     "output_type": "stream",
     "text": [
      "cat     0.000\n",
      "num     0.047\n",
      "num1    0.050\n",
      "num2    0.063\n",
      "num3    0.050\n",
      "dtype: float64\n"
     ]
    },
    {
     "data": {
      "text/html": [
       "<div>\n",
       "<style scoped>\n",
       "    .dataframe tbody tr th:only-of-type {\n",
       "        vertical-align: middle;\n",
       "    }\n",
       "\n",
       "    .dataframe tbody tr th {\n",
       "        vertical-align: top;\n",
       "    }\n",
       "\n",
       "    .dataframe thead th {\n",
       "        text-align: right;\n",
       "    }\n",
       "</style>\n",
       "<table border=\"1\" class=\"dataframe\">\n",
       "  <thead>\n",
       "    <tr style=\"text-align: right;\">\n",
       "      <th></th>\n",
       "      <th>cat</th>\n",
       "      <th>num</th>\n",
       "      <th>num1</th>\n",
       "      <th>num2</th>\n",
       "      <th>num3</th>\n",
       "    </tr>\n",
       "  </thead>\n",
       "  <tbody>\n",
       "    <tr>\n",
       "      <th>0</th>\n",
       "      <td>D</td>\n",
       "      <td>0.816044</td>\n",
       "      <td>10.275656</td>\n",
       "      <td>409.0</td>\n",
       "      <td>25.0</td>\n",
       "    </tr>\n",
       "    <tr>\n",
       "      <th>1</th>\n",
       "      <td>E</td>\n",
       "      <td>-0.612407</td>\n",
       "      <td>77.258027</td>\n",
       "      <td>NaN</td>\n",
       "      <td>27.0</td>\n",
       "    </tr>\n",
       "    <tr>\n",
       "      <th>2</th>\n",
       "      <td>A</td>\n",
       "      <td>0.393109</td>\n",
       "      <td>13.720600</td>\n",
       "      <td>739.0</td>\n",
       "      <td>22.0</td>\n",
       "    </tr>\n",
       "    <tr>\n",
       "      <th>3</th>\n",
       "      <td>B</td>\n",
       "      <td>-1.823920</td>\n",
       "      <td>42.429237</td>\n",
       "      <td>393.0</td>\n",
       "      <td>29.0</td>\n",
       "    </tr>\n",
       "    <tr>\n",
       "      <th>4</th>\n",
       "      <td>D</td>\n",
       "      <td>1.167075</td>\n",
       "      <td>27.195611</td>\n",
       "      <td>509.0</td>\n",
       "      <td>20.0</td>\n",
       "    </tr>\n",
       "  </tbody>\n",
       "</table>\n",
       "</div>"
      ],
      "text/plain": [
       "  cat       num       num1   num2  num3\n",
       "0   D  0.816044  10.275656  409.0  25.0\n",
       "1   E -0.612407  77.258027    NaN  27.0\n",
       "2   A  0.393109  13.720600  739.0  22.0\n",
       "3   B -1.823920  42.429237  393.0  29.0\n",
       "4   D  1.167075  27.195611  509.0  20.0"
      ]
     },
     "execution_count": 30,
     "metadata": {},
     "output_type": "execute_result"
    }
   ],
   "source": [
    "#Creating all non target columns for data\n",
    "np.random.seed(1)\n",
    "\n",
    "categorical = [chr(i) for i in range(ord(\"A\"), ord(\"A\") + 5)]\n",
    "cat_col = np.random.choice(categorical, size = 1000)\n",
    "\n",
    "num_col = np.random.randn(1000)\n",
    "num_col1 = np.random.uniform(0,100, 1000)\n",
    "num_col2 = np.random.randint(337,785,1000)\n",
    "num_col3 = np.random.poisson(21,1000)\n",
    "\n",
    "fake_data1 = pd.DataFrame({\n",
    "    \"cat\": cat_col,\n",
    "    \"num\": num_col,\n",
    "    \"num1\": num_col1,\n",
    "    \"num2\": num_col2,\n",
    "    \"num3\": num_col3\n",
    "})\n",
    "\n",
    "rng = np.random.default_rng(1)\n",
    "for col in fake_data1:\n",
    "    if col != \"cat\":\n",
    "        mask = rng.random(fake_data1.shape[0]) < 0.05\n",
    "        fake_data1.loc[mask, col] = np.nan\n",
    "\n",
    "print(fake_data1.isna().mean()) \n",
    "fake_data1.head()"
   ]
  },
  {
   "cell_type": "code",
   "execution_count": 42,
   "id": "d660fce9",
   "metadata": {
    "additional_cells_expected": true,
    "part_id": "2-part1",
    "span": "2-part1.code",
    "student": true
   },
   "outputs": [
    {
     "data": {
      "text/html": [
       "<div>\n",
       "<style scoped>\n",
       "    .dataframe tbody tr th:only-of-type {\n",
       "        vertical-align: middle;\n",
       "    }\n",
       "\n",
       "    .dataframe tbody tr th {\n",
       "        vertical-align: top;\n",
       "    }\n",
       "\n",
       "    .dataframe thead th {\n",
       "        text-align: right;\n",
       "    }\n",
       "</style>\n",
       "<table border=\"1\" class=\"dataframe\">\n",
       "  <thead>\n",
       "    <tr style=\"text-align: right;\">\n",
       "      <th></th>\n",
       "      <th>cat</th>\n",
       "      <th>num</th>\n",
       "      <th>num1</th>\n",
       "      <th>num2</th>\n",
       "      <th>num3</th>\n",
       "      <th>tar</th>\n",
       "    </tr>\n",
       "  </thead>\n",
       "  <tbody>\n",
       "    <tr>\n",
       "      <th>0</th>\n",
       "      <td>D</td>\n",
       "      <td>0.816044</td>\n",
       "      <td>10.275656</td>\n",
       "      <td>409.0</td>\n",
       "      <td>25.0</td>\n",
       "      <td>False</td>\n",
       "    </tr>\n",
       "    <tr>\n",
       "      <th>1</th>\n",
       "      <td>E</td>\n",
       "      <td>-0.612407</td>\n",
       "      <td>77.258027</td>\n",
       "      <td>NaN</td>\n",
       "      <td>27.0</td>\n",
       "      <td>True</td>\n",
       "    </tr>\n",
       "    <tr>\n",
       "      <th>2</th>\n",
       "      <td>A</td>\n",
       "      <td>0.393109</td>\n",
       "      <td>13.720600</td>\n",
       "      <td>739.0</td>\n",
       "      <td>22.0</td>\n",
       "      <td>False</td>\n",
       "    </tr>\n",
       "    <tr>\n",
       "      <th>3</th>\n",
       "      <td>B</td>\n",
       "      <td>-1.823920</td>\n",
       "      <td>42.429237</td>\n",
       "      <td>393.0</td>\n",
       "      <td>29.0</td>\n",
       "      <td>True</td>\n",
       "    </tr>\n",
       "    <tr>\n",
       "      <th>4</th>\n",
       "      <td>D</td>\n",
       "      <td>1.167075</td>\n",
       "      <td>27.195611</td>\n",
       "      <td>509.0</td>\n",
       "      <td>20.0</td>\n",
       "      <td>False</td>\n",
       "    </tr>\n",
       "  </tbody>\n",
       "</table>\n",
       "</div>"
      ],
      "text/plain": [
       "  cat       num       num1   num2  num3    tar\n",
       "0   D  0.816044  10.275656  409.0  25.0  False\n",
       "1   E -0.612407  77.258027    NaN  27.0   True\n",
       "2   A  0.393109  13.720600  739.0  22.0  False\n",
       "3   B -1.823920  42.429237  393.0  29.0   True\n",
       "4   D  1.167075  27.195611  509.0  20.0  False"
      ]
     },
     "execution_count": 42,
     "metadata": {},
     "output_type": "execute_result"
    }
   ],
   "source": [
    "#adding a target column\n",
    "#Used AI (ChatGPT) to help research a way/method to create a target score that was a noisy expression of the other columns)\n",
    "from sklearn.impute import SimpleImputer\n",
    "\n",
    "num_cols = [\"num\", \"num1\", \"num2\", \"num3\"]\n",
    "imp = SimpleImputer(strategy = \"mean\")\n",
    "X_num = imp.fit_transform(fake_data1[num_cols])\n",
    "\n",
    "#turning categorical column into codes\n",
    "cat_codes = fake_data1[\"cat\"].astype(\"category\").cat.codes.to_numpy()\n",
    "\n",
    "#noisy function to get target\n",
    "target_score = (\n",
    "    0.25 * X_num[:, 0]\n",
    "    + 0.33 * X_num[:, 1]\n",
    "    - 0.05 * X_num[:, 2]\n",
    "    + 0.33 * X_num[:, 3]\n",
    "    - 0.25 * cat_codes\n",
    "    + rng.normal(0,1, len(fake_data1))\n",
    ")\n",
    "\n",
    "prob = 1 / (1 + np.exp(-target_score))\n",
    "fake_data1[\"tar\"] = rng.random(len(fake_data1)) < prob\n",
    "\n",
    "fake_data1.head()"
   ]
  },
  {
   "cell_type": "markdown",
   "id": "53678de6",
   "metadata": {
    "problem_id": "ex2"
   },
   "source": [
    "#### Exercise 3\n",
    "\n",
    "Use whatever resources you need to figure out how to build an SKLearn ML pipelines. Use a pipeline to build an ML approach to predicting your target column in the preceding data with logistic regression.  I have set up the problem below so that you will write your code in a function function call that takes an SKLearn model and data frame and returns the results of a cross validation scoring routine.  \n",
    "\n",
    "I have not taught you how to do this; use the book, google, the notes, chatgpt, or whatever. This is a test of your ability to *find* information, and use this to construct a solution. Your solution should:\n",
    "\n",
    "- Use a transformer pipeline that processes your numeric and categorical features separately\n",
    "- Place everything in a pipeline with the classifier that is passed in to the function.\n",
    "- I've already implemented the call to cross_val_score - to make it work, you'll need to assign your pipeline to the `pipeline` variable.\n",
    "\n",
    "_Note: You could just feed this question to AI and get an answer, and chances are, it will be right. But if you do, you won't really learn much. So, be thoughtful in your use of AI here - you can use it to build the solution step by step, and it will explain how everything works. It's all in how you use it. So, it's your choice - go for the easy grade, or learn something._"
   ]
  },
  {
   "cell_type": "code",
   "execution_count": 44,
   "id": "fa3d4e20",
   "metadata": {},
   "outputs": [
    {
     "name": "stdout",
     "output_type": "stream",
     "text": [
      "F1 (5-fold): mean=0.919, std=0.022\n",
      "Fold scores: [0.93  0.931 0.896 0.946 0.891]\n"
     ]
    }
   ],
   "source": [
    "# --- Imports\n",
    "import numpy as np\n",
    "import pandas as pd\n",
    "\n",
    "from sklearn.compose import ColumnTransformer\n",
    "from sklearn.impute import SimpleImputer\n",
    "from sklearn.preprocessing import OneHotEncoder, StandardScaler\n",
    "from sklearn.pipeline import Pipeline\n",
    "from sklearn.linear_model import LogisticRegression\n",
    "from sklearn.model_selection import cross_val_score\n",
    "\n",
    "#Renaming fake_data1 to df and \"tar\" to \"target\" to match given code\n",
    "df = fake_data1.rename(columns = {\"tar\": \"target\"})\n",
    "\n",
    "def run_classifier(df,classifier):\n",
    "    # Separate features/target\n",
    "    y = df[\"target\"].astype(int)  # logistic expects numeric; 0/1 from boolean\n",
    "    X = df.drop(columns=[\"target\"])\n",
    "\n",
    "    #You fill in the pipeline definition.  Make sure to:\n",
    "    # - process categorical features (using an imputer and one hot encoder)\n",
    "    # - process numeric features (using an imputer and StandardScaler)\n",
    "    # - define your pipeline using `pipeline = ...` \n",
    "\n",
    "# TODO: #Process numeric and categorical features\n",
    "    numeric_features = X.select_dtypes(include = [\"number\"]).columns.tolist()\n",
    "    categorical_features = X.select_dtypes(include = [\"object\", \"category\", \"bool\"]).columns.tolist()\n",
    "\n",
    "    #Defining pipelines\n",
    "    numeric_pipeline = Pipeline(steps=[\n",
    "        (\"imputer\", SimpleImputer(strategy=\"median\")),\n",
    "        (\"scaler\", StandardScaler()),\n",
    "    ])\n",
    "\n",
    "    categorical_pipeline = Pipeline(steps=[\n",
    "        (\"imputer\", SimpleImputer(strategy=\"most_frequent\")),\n",
    "        (\"onehot\", OneHotEncoder(handle_unknown=\"ignore\")),\n",
    "    ])\n",
    "\n",
    "    preprocessor = ColumnTransformer(\n",
    "        transformers=[\n",
    "            (\"num\", numeric_pipeline, numeric_features),\n",
    "            (\"cat\", categorical_pipeline, categorical_features),\n",
    "        ]\n",
    "    )\n",
    "\n",
    "    # Full pipeline\n",
    "    pipeline = Pipeline(steps=[\n",
    "        (\"preprocess\", preprocessor),\n",
    "        (\"clf\", classifier),\n",
    "    ])\n",
    "    # --- 5-fold CV using F1\n",
    "    return cross_val_score(pipeline, X, y, scoring=\"f1\", cv=5)\n",
    "\n",
    "\n",
    "scores = run_classifier(df,LogisticRegression(random_state=42))\n",
    "print(f\"F1 (5-fold): mean={scores.mean():.3f}, std={scores.std():.3f}\")\n",
    "print(\"Fold scores:\", np.round(scores, 3))"
   ]
  },
  {
   "cell_type": "markdown",
   "id": "0f06eb0b",
   "metadata": {
    "part_id": "ex2-part2"
   },
   "source": [
    "Try using a `RandomForestClassifier` in the preceding pipeline. Just call `run_classifier` with a `RandomForestClassifier`, and print out the results as above."
   ]
  },
  {
   "cell_type": "code",
   "execution_count": 46,
   "id": "a65de74c",
   "metadata": {
    "part_id": "ex2-part2",
    "span": "ex2-part2.code",
    "student": true
   },
   "outputs": [
    {
     "name": "stdout",
     "output_type": "stream",
     "text": [
      "F1 (5-fold): mean=0.885, std=0.030\n",
      "Fold scores: [0.889 0.864 0.925 0.906 0.841]\n"
     ]
    }
   ],
   "source": [
    "from sklearn.ensemble import RandomForestClassifier\n",
    "\n",
    "scores = run_classifier(df,RandomForestClassifier(random_state=42))\n",
    "print(f\"F1 (5-fold): mean={scores.mean():.3f}, std={scores.std():.3f}\")\n",
    "print(\"Fold scores:\", np.round(scores, 3))\n"
   ]
  },
  {
   "cell_type": "markdown",
   "id": "66bbb3b1",
   "metadata": {
    "part_id": "ex2-part3"
   },
   "source": [
    "Normally, `RandomForestClassifier`s are considered to be more powerful than `LogisticRegression`.  Depending on your data, this may or may not be the case. Reflect on your answers - which one does better here, and why do you think that is?  Once again, you might use AI, but you should probably also try to _understand_ the answer."
   ]
  },
  {
   "cell_type": "markdown",
   "id": "bdb72f7e",
   "metadata": {
    "part_id": "ex2-part3",
    "span": "ex2-part3.answer",
    "student": true
   },
   "source": [
    "My data shows the opposite where LogisticRegression performed slightly better than RandomForestClassifier. This is likely because of the function used to create the target column from the other columns was noisy but still somewhat linear. This would allow logit to perform better. This could likely be somewhat explained by the fact that my data is randomly generated and thus noisy."
   ]
  }
 ],
 "metadata": {
  "kernelspec": {
   "display_name": "Python 3",
   "language": "python",
   "name": "python3"
  },
  "language_info": {
   "codemirror_mode": {
    "name": "ipython",
    "version": 3
   },
   "file_extension": ".py",
   "mimetype": "text/x-python",
   "name": "python",
   "nbconvert_exporter": "python",
   "pygments_lexer": "ipython3",
   "version": "3.12.1"
  }
 },
 "nbformat": 4,
 "nbformat_minor": 5
}
